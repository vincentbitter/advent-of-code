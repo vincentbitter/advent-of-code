{
 "cells": [
  {
   "cell_type": "code",
   "execution_count": null,
   "metadata": {},
   "outputs": [],
   "source": [
    "from libpy import readfile\n",
    "\n",
    "#filename = \"2024/day11/input/sample.txt\"\n",
    "filename = \"2024/day11/input/input.txt\"\n",
    "line = readfile.lines(filename)[0]\n",
    "\n",
    "stones = [int(x) for x in line.split(\" \")]\n",
    "\n",
    "print(stones)"
   ]
  },
  {
   "cell_type": "code",
   "execution_count": null,
   "metadata": {},
   "outputs": [],
   "source": [
    "from collections import defaultdict\n",
    "\n",
    "def blink(stones, times):\n",
    "    new_stones = dict([[s, 1] for s in stones])\n",
    "    for _ in range(times):\n",
    "        old_stones = new_stones\n",
    "        new_stones = defaultdict(int)\n",
    "        for (stone, count) in old_stones.items():\n",
    "            if stone == 0:\n",
    "                new_stones[1] += count\n",
    "            else:\n",
    "                l = len(str(stone))\n",
    "                if l % 2 == 0:\n",
    "                    d = int(10**(l/2))\n",
    "                    new_stones[stone // d] += count\n",
    "                    new_stones[stone % d] += count\n",
    "                else:\n",
    "                    new_stones[stone * 2024] += count\n",
    "    \n",
    "    return sum([x for x in new_stones.values()])"
   ]
  },
  {
   "cell_type": "markdown",
   "metadata": {},
   "source": [
    "Part A"
   ]
  },
  {
   "cell_type": "code",
   "execution_count": null,
   "metadata": {},
   "outputs": [],
   "source": [
    "print(blink(stones, 25))"
   ]
  },
  {
   "cell_type": "markdown",
   "metadata": {},
   "source": [
    "Part B"
   ]
  },
  {
   "cell_type": "code",
   "execution_count": null,
   "metadata": {},
   "outputs": [],
   "source": [
    "print(blink(stones, 75))\n",
    "    "
   ]
  }
 ],
 "metadata": {
  "kernelspec": {
   "display_name": "Python 3",
   "language": "python",
   "name": "python3"
  },
  "language_info": {
   "codemirror_mode": {
    "name": "ipython",
    "version": 3
   },
   "file_extension": ".py",
   "mimetype": "text/x-python",
   "name": "python",
   "nbconvert_exporter": "python",
   "pygments_lexer": "ipython3",
   "version": "3.12.5"
  }
 },
 "nbformat": 4,
 "nbformat_minor": 2
}
