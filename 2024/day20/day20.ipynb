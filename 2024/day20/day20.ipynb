{
 "cells": [
  {
   "cell_type": "code",
   "execution_count": 59,
   "metadata": {},
   "outputs": [],
   "source": [
    "from libpy import readfile\n",
    "\n",
    "filename = \"2024/day20/input/sample.txt\"\n",
    "filename = \"2024/day20/input/input.txt\"\n",
    "\n",
    "map = [[c for c in l] for l in readfile.lines(filename)]\n",
    "\n",
    "width = len(map[0])\n",
    "height = len(map)\n",
    "\n",
    "start = None\n",
    "end = None\n",
    "for y in range(height):\n",
    "    for x in range(width):\n",
    "        if map[y][x] == \"S\":\n",
    "            start = (x, y)\n",
    "        elif map[y][x] == \"E\":\n",
    "            end = (x, y)\n"
   ]
  },
  {
   "cell_type": "code",
   "execution_count": 98,
   "metadata": {},
   "outputs": [],
   "source": [
    "from collections import defaultdict\n",
    "\n",
    "def get_neighbours(map, x, y):\n",
    "    neighbours = []\n",
    "    if x > 0 and map[y][x - 1] != \"#\":\n",
    "        neighbours.append((x - 1, y))\n",
    "    if x < width - 1 and map[y][x + 1] != \"#\":\n",
    "        neighbours.append((x + 1, y))\n",
    "    if y > 0 and map[y - 1][x] != \"#\":\n",
    "        neighbours.append((x, y - 1))\n",
    "    if y < height - 1 and map[y + 1][x] != \"#\":\n",
    "        neighbours.append((x, y + 1))\n",
    "    \n",
    "    return neighbours\n",
    "\n",
    "def shortest_route_from_all_positions(map, target):\n",
    "    routes = [[-1 for _ in l] for l in map]\n",
    "    routes[target[1]][target[0]] = 0\n",
    "    evaluate = set([target])\n",
    "    while len(evaluate) > 0:\n",
    "        evaluate_next = set()\n",
    "        for (x, y) in evaluate:\n",
    "            neighbours = get_neighbours(map, x, y)\n",
    "            l = routes[y][x]\n",
    "            for n in neighbours:\n",
    "                if l + 1 < routes[n[1]][n[0]] or routes[n[1]][n[0]] == -1:\n",
    "                    routes[n[1]][n[0]] = l + 1\n",
    "                    evaluate_next.add(n)\n",
    "                    \n",
    "        evaluate = evaluate_next\n",
    "        \n",
    "    return routes\n",
    "\n",
    "def get_possible_cheat_routes(map, max_cheat_duration):\n",
    "    width = len(map[0])\n",
    "    height = len(map)\n",
    "    cheat_routes = []\n",
    "    for from_y in range(1, height - 1):\n",
    "        for from_x in range(1, width - 1):\n",
    "            if map[from_y][from_x] != \"#\":\n",
    "                for to_y in range(from_y, from_y + max_cheat_duration + 1):\n",
    "                    for to_x in range(from_x - max_cheat_duration + (to_y - from_y), from_x + max_cheat_duration + 1 - (to_y - from_y)):\n",
    "                        distance = abs(to_x - from_x) + (to_y - from_y)\n",
    "                        if distance > 1 and to_x > 0 and to_y > 0 and to_x < width - 1 and to_y < height - 1 and map[to_y][to_x] != \"#\":\n",
    "                            cheat_routes.append((from_x, from_y, to_x, to_y, distance))\n",
    "                            if from_y != to_y:\n",
    "                                cheat_routes.append((to_x, to_y, from_x, from_y, distance))\n",
    "    return cheat_routes\n",
    "\n",
    "def get_cheat_savings(map, target, max_cheat_duration):\n",
    "    shortest_route_without_cheating = shortest_route_from_all_positions(map, target)\n",
    "    cheat_routes = get_possible_cheat_routes(map, max_cheat_duration)\n",
    "    cheats = defaultdict(int)\n",
    "    for (from_x, from_y, to_x, to_y, distance) in cheat_routes:\n",
    "        distance_from_source = shortest_route_without_cheating[from_y][from_x]\n",
    "        distance_from_dest = shortest_route_without_cheating[to_y][to_x]\n",
    "        new_distance_from_source = distance_from_dest + distance\n",
    "        saves = distance_from_source - new_distance_from_source\n",
    "        if saves > 0:\n",
    "            cheats[saves] += 1\n",
    "    return cheats"
   ]
  },
  {
   "cell_type": "markdown",
   "metadata": {},
   "source": [
    "Part A"
   ]
  },
  {
   "cell_type": "code",
   "execution_count": null,
   "metadata": {},
   "outputs": [],
   "source": [
    "cheats = get_cheat_savings(map, end, 2)\n",
    "score = 0\n",
    "for cheat in sorted(cheats):\n",
    "    #print(\"There are\", cheats[cheat],\"cheats that save \", cheat, \"picoseconds.\")\n",
    "    if cheat >= 100:\n",
    "        score += cheats[cheat]\n",
    "        \n",
    "print(score)"
   ]
  },
  {
   "cell_type": "markdown",
   "metadata": {},
   "source": [
    "Part B"
   ]
  },
  {
   "cell_type": "code",
   "execution_count": null,
   "metadata": {},
   "outputs": [],
   "source": [
    "cheats = get_cheat_savings(map, end, 20)\n",
    "score = 0\n",
    "for cheat in sorted(cheats):\n",
    "    #print(\"There are\", cheats[cheat],\"cheats that save \", cheat, \"picoseconds.\")\n",
    "    if cheat >= 100:\n",
    "        score += cheats[cheat]\n",
    "        \n",
    "print(score)"
   ]
  }
 ],
 "metadata": {
  "kernelspec": {
   "display_name": "Python 3",
   "language": "python",
   "name": "python3"
  },
  "language_info": {
   "codemirror_mode": {
    "name": "ipython",
    "version": 3
   },
   "file_extension": ".py",
   "mimetype": "text/x-python",
   "name": "python",
   "nbconvert_exporter": "python",
   "pygments_lexer": "ipython3",
   "version": "3.12.5"
  }
 },
 "nbformat": 4,
 "nbformat_minor": 2
}
