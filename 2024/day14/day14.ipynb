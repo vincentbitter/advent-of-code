{
 "cells": [
  {
   "cell_type": "code",
   "execution_count": null,
   "metadata": {},
   "outputs": [],
   "source": [
    "from libpy import readfile\n",
    "\n",
    "filename = \"2024/day14/input/sample.txt\"\n",
    "#filename = \"2024/day14/input/input.txt\"\n",
    "lines = readfile.lines(filename)\n",
    "\n",
    "robots = []\n",
    "width = 0\n",
    "height = 0\n",
    "for line in lines:\n",
    "    p = line.split(\"=\")\n",
    "    sp = p[1].split(\" \")[0].split(\",\")\n",
    "    v = p[2].split(\",\")\n",
    "    x = int(sp[0])\n",
    "    y = int(sp[1])\n",
    "    robots.append([x, y, int(v[0]), int(v[1])])\n",
    "    width = max(x + 1, width)\n",
    "    height = max(y + 1, height)\n",
    "\n",
    "print(robots)"
   ]
  },
  {
   "cell_type": "code",
   "execution_count": null,
   "metadata": {},
   "outputs": [],
   "source": []
  },
  {
   "cell_type": "markdown",
   "metadata": {},
   "source": [
    "Part A"
   ]
  },
  {
   "cell_type": "code",
   "execution_count": null,
   "metadata": {},
   "outputs": [],
   "source": [
    "my_robots = [r.copy() for r in robots]\n",
    "\n",
    "for robot in my_robots:\n",
    "    robot[0] = (robot[0] + robot[2] * 100) % width\n",
    "    robot[1] = (robot[1] + robot[3] * 100) % height\n",
    "\n",
    "\n",
    "quadrants = [0,0,0,0]\n",
    "center = width // 2\n",
    "middle = height // 2\n",
    "\n",
    "for robot in my_robots:\n",
    "    if robot[0] < center and robot[1] < middle:\n",
    "        quadrants[0] += 1\n",
    "    elif robot[0] < center and robot[1] > middle:\n",
    "        quadrants[1] += 1\n",
    "    elif robot[0] > center and robot[1] < middle:\n",
    "        quadrants[2] += 1\n",
    "    elif robot[0] > center and robot[1] > middle:\n",
    "        quadrants[3] += 1\n",
    "        \n",
    "print(quadrants[0] * quadrants[1] * quadrants[2] * quadrants[3])"
   ]
  },
  {
   "cell_type": "markdown",
   "metadata": {},
   "source": [
    "Part B"
   ]
  },
  {
   "cell_type": "code",
   "execution_count": null,
   "metadata": {},
   "outputs": [],
   "source": [
    "my_robots = [r.copy() for r in robots]\n",
    "run = 0\n",
    "while run < 10000:\n",
    "    run += 1\n",
    "    for robot in my_robots:\n",
    "        robot[0] = (robot[0] + robot[2]) % width\n",
    "        robot[1] = (robot[1] + robot[3]) % height\n",
    "    \n",
    "    enabled = set([(r[0], r[1]) for r in my_robots])\n",
    "    robots_with_neighbour = 0\n",
    "    for robot in enabled:\n",
    "        if (robot[0] - 1, robot[1]) in enabled or \\\n",
    "                (robot[0] + 1, robot[1]) in enabled or \\\n",
    "                (robot[0], robot[1] - 1) in enabled or \\\n",
    "                (robot[0], robot[1] + 1) in enabled:\n",
    "            robots_with_neighbour += 1\n",
    "    if robots_with_neighbour > 250:\n",
    "        break\n",
    "\n",
    "for x in range(width):\n",
    "    for y in range(height):\n",
    "        if (x, y) in enabled:\n",
    "            print(\"#\", end=\"\")\n",
    "        else:\n",
    "            print(\".\", end=\"\")\n",
    "    print()\n",
    "    \n",
    "print(run)"
   ]
  }
 ],
 "metadata": {
  "kernelspec": {
   "display_name": "Python 3",
   "language": "python",
   "name": "python3"
  },
  "language_info": {
   "codemirror_mode": {
    "name": "ipython",
    "version": 3
   },
   "file_extension": ".py",
   "mimetype": "text/x-python",
   "name": "python",
   "nbconvert_exporter": "python",
   "pygments_lexer": "ipython3",
   "version": "3.12.5"
  }
 },
 "nbformat": 4,
 "nbformat_minor": 2
}
