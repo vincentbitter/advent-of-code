{
 "cells": [
  {
   "cell_type": "code",
   "execution_count": 91,
   "metadata": {},
   "outputs": [],
   "source": [
    "from libpy import readfile\n",
    "\n",
    "filename = \"2024/day22/input/sample.txt\"\n",
    "filename = \"2024/day22/input/sample2.txt\"\n",
    "filename = \"2024/day22/input/input.txt\"\n",
    "\n",
    "lines = readfile.lines(filename)\n",
    "\n"
   ]
  },
  {
   "cell_type": "code",
   "execution_count": 55,
   "metadata": {},
   "outputs": [],
   "source": [
    "def mix(longest: int, shortest: int):\n",
    "    # To binary\n",
    "    a = bin(longest)[2:]\n",
    "    b = bin(shortest)[2:]\n",
    "\n",
    "    # Make strings same length\n",
    "    b = ('0' * (len(a) - len(b))) + b\n",
    "\n",
    "    # XOR\n",
    "    x = ['1' if a1 != b1 else '0' for (a1,b1) in zip(a,b)]\n",
    "    \n",
    "    # To int\n",
    "    return int(\"\".join(x), 2)\n",
    "\n",
    "def prune(secret: int):\n",
    "    return secret % 16777216\n",
    "\n",
    "def get_next_random(secret: int):\n",
    "    # Calculate the result of multiplying the secret number by 64. Then, mix this result into the secret number. Finally, prune the secret number.\n",
    "    secret = prune(mix(secret * 64, secret))\n",
    "    \n",
    "    # Calculate the result of dividing the secret number by 32. Round the result down to the nearest integer. Then, mix this result into the secret number. Finally, prune the secret number.\n",
    "    secret = prune(mix(secret, round(secret // 32)))\n",
    "    \n",
    "    # Calculate the result of multiplying the secret number by 2048. Then, mix this result into the secret number. Finally, prune the secret number.\n",
    "    secret = prune(mix(secret * 2048, secret))\n",
    "    \n",
    "    return secret\n",
    "    "
   ]
  },
  {
   "cell_type": "markdown",
   "metadata": {},
   "source": [
    "Part A"
   ]
  },
  {
   "cell_type": "code",
   "execution_count": null,
   "metadata": {},
   "outputs": [],
   "source": [
    "total = 0\n",
    "for line in lines:\n",
    "    s = int(line)\n",
    "    for i in range(2000):\n",
    "        s = get_next_random(s)\n",
    "    total += s\n",
    "    \n",
    "print(total)"
   ]
  },
  {
   "cell_type": "markdown",
   "metadata": {},
   "source": [
    "Part B"
   ]
  },
  {
   "cell_type": "code",
   "execution_count": null,
   "metadata": {},
   "outputs": [],
   "source": [
    "def find_value_for_pattern(results, i, j, k, l):\n",
    "    for index in range(len(results) - 3):\n",
    "        if results[index][1] == i and results[index + 1][1] == j and results[index + 2][1] == k and results[index + 3][1] == l:\n",
    "            return results[index + 3][0]\n",
    "    return 0\n",
    "\n",
    "bids_per_secret = []\n",
    "pattern_values_per_secret = []\n",
    "for line in lines:\n",
    "    s = int(line)\n",
    "    prev = s % 10\n",
    "    bids = [(prev, None)]\n",
    "    pattern = [\"a\", \"a\", \"a\", \"a\"]\n",
    "    pattern_values = {}\n",
    "    for i in range(2000):\n",
    "        s = get_next_random(s)\n",
    "        current = s % 10\n",
    "        pattern[0] = pattern[1]\n",
    "        pattern[1] = pattern[2]\n",
    "        pattern[2] = pattern[3]\n",
    "        pattern[3] = str(current - prev)\n",
    "        pattern_key = \"\".join(pattern)\n",
    "        if pattern_key not in pattern_values:\n",
    "            pattern_values[pattern_key] = current\n",
    "        bids.append((current, current - prev))\n",
    "        prev = current\n",
    "    bids_per_secret.append(bids)\n",
    "    pattern_values_per_secret.append(pattern_values)\n",
    "\n",
    "best_pattern = None\n",
    "highest_score = 0\n",
    "for i in range(-9, 9):\n",
    "    for j in range(-9, 9):\n",
    "        for k in range(-9, 9):\n",
    "            for l in range(-9, 9):\n",
    "                total = 0\n",
    "                pattern_key = str(i) + str(j) + str(k) + str(l)\n",
    "                for pattern_values in pattern_values_per_secret:\n",
    "                    if pattern_key in pattern_values:\n",
    "                        total += pattern_values[pattern_key]\n",
    "                if total > highest_score:\n",
    "                    highest_score = total\n",
    "                    best_pattern = (i, j, k, l)\n",
    "\n",
    "print(highest_score)\n",
    "print(best_pattern)"
   ]
  }
 ],
 "metadata": {
  "kernelspec": {
   "display_name": "Python 3",
   "language": "python",
   "name": "python3"
  },
  "language_info": {
   "codemirror_mode": {
    "name": "ipython",
    "version": 3
   },
   "file_extension": ".py",
   "mimetype": "text/x-python",
   "name": "python",
   "nbconvert_exporter": "python",
   "pygments_lexer": "ipython3",
   "version": "3.12.5"
  }
 },
 "nbformat": 4,
 "nbformat_minor": 2
}
