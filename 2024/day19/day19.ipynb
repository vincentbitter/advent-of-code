{
 "cells": [
  {
   "cell_type": "code",
   "execution_count": null,
   "metadata": {},
   "outputs": [],
   "source": [
    "from libpy import readfile\n",
    "\n",
    "filename = \"2024/day19/input/sample.txt\"\n",
    "filename = \"2024/day19/input/input.txt\"\n",
    "\n",
    "lines = readfile.lines(filename)\n",
    "\n",
    "available_tower_patterns = lines[0].split(\", \")\n",
    "designs = lines[2:]\n",
    "\n",
    "print (available_tower_patterns)\n"
   ]
  },
  {
   "cell_type": "code",
   "execution_count": 26,
   "metadata": {},
   "outputs": [],
   "source": [
    "cache = {}\n",
    "\n",
    "def possible_designs(design: str, patterns: str) -> int:\n",
    "    if design in cache:\n",
    "        return cache[design]\n",
    "    \n",
    "    result = 0\n",
    "    for pattern in patterns:\n",
    "        if pattern == design:\n",
    "            result += 1\n",
    "        elif design.startswith(pattern):\n",
    "            result += possible_designs(design[len(pattern):], patterns)\n",
    "\n",
    "    cache[design] = result\n",
    "    return result"
   ]
  },
  {
   "cell_type": "markdown",
   "metadata": {},
   "source": [
    "Part A"
   ]
  },
  {
   "cell_type": "code",
   "execution_count": null,
   "metadata": {},
   "outputs": [],
   "source": [
    "total = 0\n",
    "for design in designs:\n",
    "    r = possible_designs(design, available_tower_patterns)\n",
    "    if r > 0:\n",
    "        total += 1\n",
    "    \n",
    "print(total)"
   ]
  },
  {
   "cell_type": "markdown",
   "metadata": {},
   "source": [
    "Part B"
   ]
  },
  {
   "cell_type": "code",
   "execution_count": null,
   "metadata": {},
   "outputs": [],
   "source": [
    "total = 0\n",
    "i = 0\n",
    "for design in designs:\n",
    "    i += 1\n",
    "    r = possible_designs(design, available_tower_patterns)\n",
    "    total += r\n",
    "    \n",
    "print(total)"
   ]
  }
 ],
 "metadata": {
  "kernelspec": {
   "display_name": "Python 3",
   "language": "python",
   "name": "python3"
  },
  "language_info": {
   "codemirror_mode": {
    "name": "ipython",
    "version": 3
   },
   "file_extension": ".py",
   "mimetype": "text/x-python",
   "name": "python",
   "nbconvert_exporter": "python",
   "pygments_lexer": "ipython3",
   "version": "3.12.5"
  }
 },
 "nbformat": 4,
 "nbformat_minor": 2
}
