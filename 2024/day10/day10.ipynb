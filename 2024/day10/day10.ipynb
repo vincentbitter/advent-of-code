{
 "cells": [
  {
   "cell_type": "code",
   "execution_count": null,
   "metadata": {},
   "outputs": [],
   "source": [
    "from libpy import readfile\n",
    "\n",
    "#filename = \"2024/day10/input/sample.txt\"\n",
    "filename = \"2024/day10/input/input.txt\"\n",
    "lines = readfile.lines(filename)\n",
    "\n",
    "width = len(lines[0])\n",
    "height = len(lines)\n",
    "\n",
    "map = [[int(c) for c in line] for line in lines]\n",
    "\n",
    "print(map)"
   ]
  },
  {
   "cell_type": "code",
   "execution_count": 34,
   "metadata": {},
   "outputs": [],
   "source": [
    "def find_routes(map, x, y, start = 0):\n",
    "    if start == 9:\n",
    "        return [(x,y)]\n",
    "    \n",
    "    next = start + 1\n",
    "    routes = []\n",
    "    if x > 0 and map[y][x - 1] == next:\n",
    "        routes += find_routes(map, x - 1, y, next)\n",
    "    if y > 0 and map[y - 1][x] == next:\n",
    "        routes += find_routes(map, x, y - 1, next)\n",
    "    if x < width - 1 and map[y][x + 1] == next:\n",
    "        routes += find_routes(map, x + 1, y, next)\n",
    "    if y < height - 1 and map[y + 1][x] == next:\n",
    "        routes += find_routes(map, x, y + 1, next)\n",
    "    \n",
    "    return routes"
   ]
  },
  {
   "cell_type": "markdown",
   "metadata": {},
   "source": [
    "Part A"
   ]
  },
  {
   "cell_type": "code",
   "execution_count": null,
   "metadata": {},
   "outputs": [],
   "source": [
    "score = 0\n",
    "for y in range(height):\n",
    "    for x in range(width):\n",
    "        if map[y][x] == 0:\n",
    "            routes = find_routes(map, x, y)\n",
    "            score += len(set(routes))\n",
    "            \n",
    "print(score)"
   ]
  },
  {
   "cell_type": "markdown",
   "metadata": {},
   "source": [
    "Part B"
   ]
  },
  {
   "cell_type": "code",
   "execution_count": null,
   "metadata": {},
   "outputs": [],
   "source": [
    "score = 0\n",
    "for y in range(height):\n",
    "    for x in range(width):\n",
    "        if map[y][x] == 0:\n",
    "            routes = find_routes(map, x, y)\n",
    "            score += len(routes)\n",
    "            \n",
    "print(score)"
   ]
  }
 ],
 "metadata": {
  "kernelspec": {
   "display_name": "Python 3",
   "language": "python",
   "name": "python3"
  },
  "language_info": {
   "codemirror_mode": {
    "name": "ipython",
    "version": 3
   },
   "file_extension": ".py",
   "mimetype": "text/x-python",
   "name": "python",
   "nbconvert_exporter": "python",
   "pygments_lexer": "ipython3",
   "version": "3.12.5"
  }
 },
 "nbformat": 4,
 "nbformat_minor": 2
}
