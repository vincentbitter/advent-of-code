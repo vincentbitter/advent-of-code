{
 "cells": [
  {
   "cell_type": "code",
   "execution_count": 55,
   "metadata": {},
   "outputs": [],
   "source": [
    "from libpy import readfile\n",
    "\n",
    "filename = \"2024/day21/input/sample.txt\"\n",
    "filename = \"2024/day21/input/input.txt\"\n",
    "\n",
    "lines = readfile.lines(filename)"
   ]
  },
  {
   "cell_type": "code",
   "execution_count": 68,
   "metadata": {},
   "outputs": [],
   "source": [
    "keypads = [\n",
    "    [['7','8','9'], ['4','5','6'], ['1','2','3'], [None, '0', 'A']],\n",
    "    [[None, '^', 'A'], ['<','v','>']]\n",
    "]\n",
    "route_cache = [\n",
    "    {},\n",
    "    {}\n",
    "]\n",
    "\n",
    "def get_route_length(route: str):\n",
    "    current = 'A'\n",
    "    length = 0\n",
    "    for c in route:\n",
    "        routes_to_button = [r + 'A' for r in get_route(1, current, c)]\n",
    "        length += min([len(x) for x in routes_to_button])\n",
    "        current = c\n",
    "    return length\n",
    "\n",
    "route2_cache = {}\n",
    "def get_route_length2(route: str, hops: int):\n",
    "    cache_key = route + str(hops)\n",
    "    if cache_key in route2_cache:\n",
    "        return route2_cache[cache_key]\n",
    "    current = 'A'\n",
    "    length = 0\n",
    "    for c in route:\n",
    "        routes_to_button = [r + 'A' for r in get_route(1, current, c)]\n",
    "        shortest = None\n",
    "        for route2 in routes_to_button:\n",
    "            length2 = get_route_length(route2) if hops == 0 else get_route_length2(route2, hops - 1)\n",
    "            if shortest is None or length2 < shortest:\n",
    "                shortest = length2\n",
    "        current = c\n",
    "        length += shortest\n",
    "    route2_cache[cache_key] = length\n",
    "    return length\n",
    "\n",
    "def get_route(keypad, from_key, to_key):\n",
    "    cache_key = (from_key, to_key)\n",
    "    if cache_key in route_cache[keypad]:\n",
    "        return route_cache[keypad][cache_key]\n",
    "    \n",
    "    from_position = None\n",
    "    to_position = None\n",
    "    for y in range(len(keypads[keypad])):\n",
    "        for x in range(len(keypads[keypad][0])):\n",
    "            if keypads[keypad][y][x] == from_key:\n",
    "                from_position = (x,y)\n",
    "            if keypads[keypad][y][x] == to_key:\n",
    "                to_position = (x,y)\n",
    "    \n",
    "    x_direction = 1 if to_position[0] > from_position[0] else -1\n",
    "    y_direction = 1 if to_position[1] > from_position[1] else -1\n",
    "    routes = set()\n",
    "    \n",
    "    visited = [(from_position, \"\")]\n",
    "    while len(visited) > 0:\n",
    "        new_visited = []\n",
    "        for v in visited:\n",
    "            if v[0] == to_position:\n",
    "                routes.add(v[1])\n",
    "            new_x = v[0][0] + x_direction\n",
    "            new_y = v[0][1] + y_direction\n",
    "            if v[0][0] is not to_position[0] and keypads[keypad][v[0][1]][new_x] is not None:\n",
    "                r = '<' if x_direction < 0 else '>'\n",
    "                new_visited.append(((new_x, v[0][1]), v[1] + r))\n",
    "            if v[0][1] is not to_position[1] and keypads[keypad][new_y][v[0][0]] is not None:\n",
    "                r = '^' if y_direction < 0 else 'v'\n",
    "                new_visited.append(((v[0][0], new_y), v[1] + r))\n",
    "        visited = new_visited\n",
    "    \n",
    "    route_cache[keypad][cache_key] = routes\n",
    "    return routes"
   ]
  },
  {
   "cell_type": "markdown",
   "metadata": {},
   "source": [
    "Part A"
   ]
  },
  {
   "cell_type": "code",
   "execution_count": null,
   "metadata": {},
   "outputs": [],
   "source": [
    "total = 0\n",
    "for line in lines:\n",
    "    line_total = 0\n",
    "    current = 'A'\n",
    "    for c in line:\n",
    "        routes_to_button = [r + 'A' for r in get_route(0, current, c)]\n",
    "        shortest = None\n",
    "        for route in routes_to_button:\n",
    "            length = get_route_length2(route, 0)\n",
    "            if shortest is None or length < shortest:\n",
    "                shortest = length        \n",
    "        line_total += shortest\n",
    "        current = c\n",
    "    total += line_total * int(line[0:3])\n",
    "    \n",
    "print(total)"
   ]
  },
  {
   "cell_type": "markdown",
   "metadata": {},
   "source": [
    "Part B"
   ]
  },
  {
   "cell_type": "code",
   "execution_count": null,
   "metadata": {},
   "outputs": [],
   "source": [
    "total = 0\n",
    "for line in lines:\n",
    "    line_total = 0\n",
    "    current = 'A'\n",
    "    for c in line:\n",
    "        routes_to_button = [r + 'A' for r in get_route(0, current, c)]\n",
    "        shortest = None\n",
    "        for route in routes_to_button:\n",
    "            length = get_route_length2(route, 23)\n",
    "            if shortest is None or length < shortest:\n",
    "                shortest = length        \n",
    "        line_total += shortest\n",
    "        current = c\n",
    "    total += line_total * int(line[0:3])\n",
    "    \n",
    "print(total)"
   ]
  }
 ],
 "metadata": {
  "kernelspec": {
   "display_name": "Python 3",
   "language": "python",
   "name": "python3"
  },
  "language_info": {
   "codemirror_mode": {
    "name": "ipython",
    "version": 3
   },
   "file_extension": ".py",
   "mimetype": "text/x-python",
   "name": "python",
   "nbconvert_exporter": "python",
   "pygments_lexer": "ipython3",
   "version": "3.12.5"
  }
 },
 "nbformat": 4,
 "nbformat_minor": 2
}
