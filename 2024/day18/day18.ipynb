{
 "cells": [
  {
   "cell_type": "code",
   "execution_count": null,
   "metadata": {},
   "outputs": [],
   "source": [
    "from libpy import readfile\n",
    "\n",
    "filename = \"2024/day18/input/sample.txt\"\n",
    "width = 7\n",
    "drop_bytes = 12\n",
    "\n",
    "filename = \"2024/day18/input/input.txt\"\n",
    "width = 71\n",
    "drop_bytes = 1024\n",
    "\n",
    "lines = readfile.lines(filename)\n",
    "incoming = [(int(l.split(\",\")[0]),int(l.split(\",\")[1])) for l in lines]\n",
    "\n",
    "height = width\n",
    "start = (0,0)\n",
    "end = (width - 1, height - 1)\n",
    "\n",
    "print(incoming)"
   ]
  },
  {
   "cell_type": "code",
   "execution_count": 17,
   "metadata": {},
   "outputs": [],
   "source": []
  },
  {
   "cell_type": "markdown",
   "metadata": {},
   "source": [
    "Part A"
   ]
  },
  {
   "cell_type": "code",
   "execution_count": null,
   "metadata": {},
   "outputs": [],
   "source": [
    "blocked = incoming[0:drop_bytes]\n",
    "\n",
    "map = []\n",
    "for y in range(height):\n",
    "    map.append([])\n",
    "    for x in range(width):\n",
    "        map[y].append(-2 if (x,y) in blocked else -1)\n",
    "        \n",
    "map[0][0] = 0\n",
    "    \n",
    "evaluate = set([start])\n",
    "while len(evaluate) > 0:\n",
    "    new_evaluate = set()\n",
    "    for (x,y) in evaluate:\n",
    "        v = map[y][x]\n",
    "        if x > 0 and (map[y][x - 1] > v + 1 or map[y][x - 1] == -1):\n",
    "            map[y][x - 1] = v + 1\n",
    "            new_evaluate.add((x - 1, y))\n",
    "        if x < width - 1 and (map[y][x + 1] > v + 1 or map[y][x + 1] == -1):\n",
    "            map[y][x + 1] = v + 1\n",
    "            new_evaluate.add((x + 1, y))\n",
    "        if y > 0 and (map[y - 1][x] > v + 1 or map[y - 1][x] == -1):\n",
    "            map[y - 1][x] = v + 1\n",
    "            new_evaluate.add((x, y - 1))\n",
    "        if y < height - 1 and (map[y + 1][x] > v + 1 or map[y + 1][x] == -1):\n",
    "            map[y + 1][x] = v + 1\n",
    "            new_evaluate.add((x, y + 1))\n",
    "            \n",
    "    evaluate = new_evaluate\n",
    "    \n",
    "print(map[end[1]][end[0]])"
   ]
  },
  {
   "cell_type": "markdown",
   "metadata": {},
   "source": [
    "Part B"
   ]
  },
  {
   "cell_type": "code",
   "execution_count": null,
   "metadata": {},
   "outputs": [],
   "source": [
    "limit = len(lines)\n",
    "last_increment = limit\n",
    "highest_success = -1\n",
    "\n",
    "while True:\n",
    "    blocked = incoming[0:limit]\n",
    "\n",
    "    map = []\n",
    "    for y in range(height):\n",
    "        map.append([])\n",
    "        for x in range(width):\n",
    "            map[y].append(-2 if (x,y) in blocked else -1)\n",
    "            \n",
    "    map[0][0] = 0\n",
    "        \n",
    "    evaluate = set([start])\n",
    "    while len(evaluate) > 0:\n",
    "        new_evaluate = set()\n",
    "        for (x,y) in evaluate:\n",
    "            v = map[y][x]\n",
    "            if x > 0 and (map[y][x - 1] > v + 1 or map[y][x - 1] == -1):\n",
    "                map[y][x - 1] = v + 1\n",
    "                new_evaluate.add((x - 1, y))\n",
    "            if x < width - 1 and (map[y][x + 1] > v + 1 or map[y][x + 1] == -1):\n",
    "                map[y][x + 1] = v + 1\n",
    "                new_evaluate.add((x + 1, y))\n",
    "            if y > 0 and (map[y - 1][x] > v + 1 or map[y - 1][x] == -1):\n",
    "                map[y - 1][x] = v + 1\n",
    "                new_evaluate.add((x, y - 1))\n",
    "            if y < height - 1 and (map[y + 1][x] > v + 1 or map[y + 1][x] == -1):\n",
    "                map[y + 1][x] = v + 1\n",
    "                new_evaluate.add((x, y + 1))\n",
    "                \n",
    "        evaluate = new_evaluate\n",
    "    \n",
    "    # Route available\n",
    "    if map[end[1]][end[0]] > 0:\n",
    "        if highest_success < limit:\n",
    "            highest_success = limit\n",
    "        last_increment = max(abs(last_increment) // 2, 1)\n",
    "    \n",
    "    # No route available\n",
    "    else:\n",
    "        if highest_success > 0 and highest_success == limit - 1:\n",
    "            break\n",
    "        last_increment = min(abs(last_increment) // -2, -1)\n",
    "        \n",
    "    limit += last_increment\n",
    "            \n",
    "    \n",
    "print(incoming[limit - 1])\n",
    "            "
   ]
  }
 ],
 "metadata": {
  "kernelspec": {
   "display_name": "Python 3",
   "language": "python",
   "name": "python3"
  },
  "language_info": {
   "codemirror_mode": {
    "name": "ipython",
    "version": 3
   },
   "file_extension": ".py",
   "mimetype": "text/x-python",
   "name": "python",
   "nbconvert_exporter": "python",
   "pygments_lexer": "ipython3",
   "version": "3.12.5"
  }
 },
 "nbformat": 4,
 "nbformat_minor": 2
}
