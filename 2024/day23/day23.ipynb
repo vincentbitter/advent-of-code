{
 "cells": [
  {
   "cell_type": "code",
   "execution_count": 45,
   "metadata": {},
   "outputs": [],
   "source": [
    "from collections import defaultdict\n",
    "from libpy import readfile\n",
    "\n",
    "filename = \"2024/day23/input/sample.txt\"\n",
    "filename = \"2024/day23/input/input.txt\"\n",
    "\n",
    "lines = readfile.lines(filename)\n",
    "\n",
    "nodes = defaultdict(list)\n",
    "for line in lines:\n",
    "    (f, t) = line.split(\"-\")\n",
    "    nodes[f].append(t)\n",
    "    nodes[t].append(f)\n"
   ]
  },
  {
   "cell_type": "markdown",
   "metadata": {},
   "source": [
    "Part A"
   ]
  },
  {
   "cell_type": "code",
   "execution_count": null,
   "metadata": {},
   "outputs": [],
   "source": [
    "clusters = set()\n",
    "\n",
    "for node in nodes:\n",
    "    if node[0] == \"t\":\n",
    "        connections = nodes[node]\n",
    "        for i in range(len(connections) - 1):\n",
    "            child_connections = nodes[connections[i]]\n",
    "            for j in range(i + 1, len(connections)):\n",
    "                if connections[j] in child_connections:\n",
    "                    clusters.add(\" \".join(sorted([node, connections[i], connections[j]])))\n",
    "                \n",
    "print(len(clusters))"
   ]
  },
  {
   "cell_type": "markdown",
   "metadata": {},
   "source": [
    "Part B"
   ]
  },
  {
   "cell_type": "code",
   "execution_count": null,
   "metadata": {},
   "outputs": [],
   "source": [
    "clusters = set([\",\".join(sorted(line.split(\"-\"))) for line in lines])\n",
    "\n",
    "while True:\n",
    "    new_clusters = set()\n",
    "\n",
    "    for cluster in clusters:\n",
    "        nodes_in_cluster = cluster.split(\",\")\n",
    "        childs = nodes[nodes_in_cluster[0]]\n",
    "        for child in childs:\n",
    "            if child in cluster:\n",
    "                continue\n",
    "            all_ok = True\n",
    "            for other_node_in_cluster in nodes_in_cluster[1:]:\n",
    "                if child not in nodes[other_node_in_cluster]:\n",
    "                    all_ok = False\n",
    "            if all_ok:\n",
    "                new_clusters.add(\",\".join(sorted(nodes_in_cluster + [child])))\n",
    "\n",
    "    if len(new_clusters) == 0:\n",
    "        break\n",
    "    clusters = new_clusters\n",
    "                \n",
    "print(clusters.pop())"
   ]
  }
 ],
 "metadata": {
  "kernelspec": {
   "display_name": "Python 3",
   "language": "python",
   "name": "python3"
  },
  "language_info": {
   "codemirror_mode": {
    "name": "ipython",
    "version": 3
   },
   "file_extension": ".py",
   "mimetype": "text/x-python",
   "name": "python",
   "nbconvert_exporter": "python",
   "pygments_lexer": "ipython3",
   "version": "3.12.5"
  }
 },
 "nbformat": 4,
 "nbformat_minor": 2
}
