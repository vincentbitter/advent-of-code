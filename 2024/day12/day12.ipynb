{
 "cells": [
  {
   "cell_type": "code",
   "execution_count": null,
   "metadata": {},
   "outputs": [],
   "source": [
    "from libpy import readfile\n",
    "\n",
    "#filename = \"2024/day12/input/sample.txt\"\n",
    "#filename = \"2024/day12/input/sample2.txt\"\n",
    "#filename = \"2024/day12/input/sample3.txt\"\n",
    "#filename = \"2024/day12/input/sample4.txt\"\n",
    "#filename = \"2024/day12/input/sample5.txt\"\n",
    "filename = \"2024/day12/input/input.txt\"\n",
    "lines = readfile.lines(filename)\n",
    "\n",
    "width = len(lines[0])\n",
    "height = len(lines)\n",
    "\n",
    "print(lines)"
   ]
  },
  {
   "cell_type": "code",
   "execution_count": null,
   "metadata": {},
   "outputs": [],
   "source": [
    "\n",
    "TOP = 1\n",
    "RIGHT = 2\n",
    "BOTTOM = 3\n",
    "LEFT = 4\n",
    "\n",
    "def get_perimeter(map, x, y):\n",
    "    perimeters = []\n",
    "    if x == 0 or map[y][x - 1] != map[y][x]:\n",
    "        perimeters.append(((x, y), LEFT))\n",
    "    if y == 0 or map[y - 1][x] != map[y][x]:\n",
    "        perimeters.append(((x, y), TOP))\n",
    "    if x == width - 1 or map[y][x + 1] != map[y][x]:\n",
    "        perimeters.append(((x, y), RIGHT))\n",
    "    if y == height - 1 or map[y + 1][x] != map[y][x]:\n",
    "        perimeters.append(((x, y), BOTTOM))\n",
    "    return perimeters\n",
    "\n",
    "def merge_index(list, source_index, target_index):\n",
    "    list[target_index] += list[source_index]\n",
    "    list[source_index] = []\n",
    "\n",
    "def get_regions(map):\n",
    "    area_per_region = []\n",
    "    perimeter_per_region = []\n",
    "    region_per_plot = {}\n",
    "\n",
    "    for y in range(height):\n",
    "        for x in range(width):\n",
    "            perimeters = get_perimeter(map, x, y)\n",
    "            belongs_to = region_per_plot[(x, y - 1)] if y > 0 and map[y - 1][x] == map[y][x] else None\n",
    "            belongs_to_left = region_per_plot[(x - 1, y)] if x > 0 and map[y][x - 1] == map[y][x] else None\n",
    "\n",
    "            if belongs_to is None and belongs_to_left is not None:\n",
    "                belongs_to = belongs_to_left\n",
    "\n",
    "            if belongs_to is not None:\n",
    "                if belongs_to_left is not None and belongs_to_left != belongs_to:\n",
    "                    for plot in area_per_region[belongs_to_left]:\n",
    "                        region_per_plot[plot] = belongs_to\n",
    "                    merge_index(area_per_region, belongs_to_left, belongs_to)\n",
    "                    merge_index(perimeter_per_region, belongs_to_left, belongs_to)\n",
    "            \n",
    "            else:\n",
    "                belongs_to = len(area_per_region)\n",
    "                area_per_region.append([])\n",
    "                perimeter_per_region.append([])\n",
    "                \n",
    "            region_per_plot[(x, y)] = belongs_to\n",
    "            area_per_region[belongs_to].append((x, y))\n",
    "            perimeter_per_region[belongs_to] += perimeters\n",
    "                \n",
    "    return [(len(plots), perimeters) for (plots, perimeters) in zip(area_per_region, perimeter_per_region)]"
   ]
  },
  {
   "cell_type": "markdown",
   "metadata": {},
   "source": [
    "Part A"
   ]
  },
  {
   "cell_type": "code",
   "execution_count": null,
   "metadata": {},
   "outputs": [],
   "source": [
    "total = sum([plots * len(perimeters) for (plots, perimeters) in get_regions(lines)])\n",
    "print(total)"
   ]
  },
  {
   "cell_type": "markdown",
   "metadata": {},
   "source": [
    "Part B"
   ]
  },
  {
   "cell_type": "code",
   "execution_count": null,
   "metadata": {},
   "outputs": [],
   "source": [
    "total = 0\n",
    "for (plots, perimeters) in get_regions(lines):\n",
    "    sides = 0\n",
    "    for perimeter in sorted(perimeters):\n",
    "        if (perimeter[1] == LEFT or perimeter[1] == RIGHT) and ((perimeter[0][0], perimeter[0][1] + 1), perimeter[1]) not in perimeters:\n",
    "            sides += 1\n",
    "        elif (perimeter[1] == TOP or perimeter[1] == BOTTOM) and ((perimeter[0][0] + 1, perimeter[0][1]), perimeter[1]) not in perimeters:\n",
    "            sides += 1\n",
    "    total += plots * sides \n",
    "    \n",
    "print(total)"
   ]
  }
 ],
 "metadata": {
  "kernelspec": {
   "display_name": "Python 3",
   "language": "python",
   "name": "python3"
  },
  "language_info": {
   "codemirror_mode": {
    "name": "ipython",
    "version": 3
   },
   "file_extension": ".py",
   "mimetype": "text/x-python",
   "name": "python",
   "nbconvert_exporter": "python",
   "pygments_lexer": "ipython3",
   "version": "3.12.5"
  }
 },
 "nbformat": 4,
 "nbformat_minor": 2
}
