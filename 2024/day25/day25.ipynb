{
 "cells": [
  {
   "cell_type": "code",
   "execution_count": 11,
   "metadata": {},
   "outputs": [],
   "source": [
    "from libpy import readfile\n",
    "\n",
    "filename = \"2024/day25/input/sample.txt\"\n",
    "filename = \"2024/day25/input/input.txt\"\n",
    "\n",
    "lines = readfile.lines(filename)"
   ]
  },
  {
   "cell_type": "markdown",
   "metadata": {},
   "source": [
    "Part A"
   ]
  },
  {
   "cell_type": "code",
   "execution_count": null,
   "metadata": {},
   "outputs": [],
   "source": [
    "def parse_frame(frame):\n",
    "    heights = []\n",
    "    for column in range(5):\n",
    "        height = 0\n",
    "        for row in range(7):\n",
    "            height += 1 if frame[row][column] == \"#\" else 0\n",
    "        heights.append(height - 1)\n",
    "    return heights\n",
    "        \n",
    "keys = []\n",
    "locks = []\n",
    "\n",
    "for i in range((len(lines) + 1) // 8):\n",
    "    frame = lines[i * 8:(i * 8 + 7)]\n",
    "    if frame[0] == \"#\" * 5:\n",
    "        locks.append(parse_frame(frame))\n",
    "    else:\n",
    "        keys.append(parse_frame(frame))\n",
    "    \n",
    "\n",
    "total = 0\n",
    "for key in keys:\n",
    "    for lock in locks:\n",
    "        valid = True\n",
    "        for i in range(5):\n",
    "            if lock[i] + key[i] > 5:\n",
    "                valid = False\n",
    "                break\n",
    "        if valid:\n",
    "            total += 1\n",
    "\n",
    "print(total)"
   ]
  }
 ],
 "metadata": {
  "kernelspec": {
   "display_name": "Python 3",
   "language": "python",
   "name": "python3"
  },
  "language_info": {
   "codemirror_mode": {
    "name": "ipython",
    "version": 3
   },
   "file_extension": ".py",
   "mimetype": "text/x-python",
   "name": "python",
   "nbconvert_exporter": "python",
   "pygments_lexer": "ipython3",
   "version": "3.12.5"
  }
 },
 "nbformat": 4,
 "nbformat_minor": 2
}
