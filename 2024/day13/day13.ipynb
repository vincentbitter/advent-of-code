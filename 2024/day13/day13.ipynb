{
 "cells": [
  {
   "cell_type": "code",
   "execution_count": null,
   "metadata": {},
   "outputs": [],
   "source": [
    "from libpy import readfile\n",
    "\n",
    "#filename = \"2024/day13/input/sample.txt\"\n",
    "filename = \"2024/day13/input/input.txt\"\n",
    "lines = readfile.lines(filename)\n",
    "\n",
    "print(lines)\n",
    "\n",
    "set_count = (len(lines) + 1) // 4\n",
    "games = []\n",
    "\n",
    "for i in range(set_count):\n",
    "    p = lines[i * 4 + 2].split(\"=\")\n",
    "    games.append((\n",
    "        int(lines[i * 4][12:14]),\n",
    "        int(lines[i * 4][18:20]),\n",
    "        int(lines[i * 4 + 1][12:14]),\n",
    "        int(lines[i * 4 + 1][18:20]),\n",
    "        int(p[1].split(\",\")[0]),\n",
    "        int(p[2])\n",
    "    ))\n",
    "    \n",
    "\n",
    "print(games)"
   ]
  },
  {
   "cell_type": "code",
   "execution_count": 43,
   "metadata": {},
   "outputs": [],
   "source": [
    "def get_ab(x1, y1, c1, x2, y2, c2):\n",
    "    x1a = x1 / y1\n",
    "    c1a = c1 / y1\n",
    "    x2a = x2 / y2\n",
    "    c2a = c2 / y2\n",
    "    c = c1a - c2a\n",
    "    x = x1a - x2a\n",
    "    a = round(c / x)\n",
    "    b = round(c1a - x1a * a)\n",
    "    if a * x1 + b * y1 != c1 or a * x2 + b * y2 != c2:\n",
    "        return (None, None)\n",
    "    return a, b"
   ]
  },
  {
   "cell_type": "markdown",
   "metadata": {},
   "source": [
    "Part A"
   ]
  },
  {
   "cell_type": "code",
   "execution_count": null,
   "metadata": {},
   "outputs": [],
   "source": [
    "score = 0\n",
    "for game in games:\n",
    "    (a, b) = get_ab(game[0], game[2], game[4], game[1], game[3], game[5])\n",
    "    if a is not None:\n",
    "        score += a * 3 + b\n",
    "        \n",
    "print(score)"
   ]
  },
  {
   "cell_type": "markdown",
   "metadata": {},
   "source": [
    "Part B"
   ]
  },
  {
   "cell_type": "code",
   "execution_count": null,
   "metadata": {},
   "outputs": [],
   "source": [
    "score = 0\n",
    "for game in games:\n",
    "    (a, b) = get_ab(game[0], game[2], game[4] + 10000000000000, game[1], game[3], game[5] + 10000000000000)\n",
    "    if a is not None:\n",
    "        score += a * 3 + b\n",
    "        \n",
    "print(score)"
   ]
  }
 ],
 "metadata": {
  "kernelspec": {
   "display_name": "Python 3",
   "language": "python",
   "name": "python3"
  },
  "language_info": {
   "codemirror_mode": {
    "name": "ipython",
    "version": 3
   },
   "file_extension": ".py",
   "mimetype": "text/x-python",
   "name": "python",
   "nbconvert_exporter": "python",
   "pygments_lexer": "ipython3",
   "version": "3.12.5"
  }
 },
 "nbformat": 4,
 "nbformat_minor": 2
}
