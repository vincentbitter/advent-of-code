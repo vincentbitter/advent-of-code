{
 "cells": [
  {
   "cell_type": "code",
   "execution_count": null,
   "metadata": {},
   "outputs": [],
   "source": [
    "from libpy import readfile\n",
    "\n",
    "filename = \"2024/day17/input/sample.txt\"\n",
    "filename = \"2024/day17/input/sample2.txt\"\n",
    "filename = \"2024/day17/input/input.txt\"\n",
    "lines = readfile.lines(filename)\n",
    "\n",
    "setup = [line.split(\": \") for line in lines]\n",
    "\n",
    "default_a = int(setup[0][1])\n",
    "default_b = int(setup[1][1])\n",
    "default_c = int(setup[2][1])\n",
    "\n",
    "instructions = [*map(int, setup[4][1].split(\",\"))]\n",
    "\n",
    "print(default_a, default_b, default_c)\n",
    "print(instructions)"
   ]
  },
  {
   "cell_type": "code",
   "execution_count": 338,
   "metadata": {},
   "outputs": [],
   "source": [
    "def bit_xor(value1: int, value2: int):\n",
    "    # To binary\n",
    "    value1b = bin(value1)[2:]\n",
    "    value2b = bin(value2)[2:]\n",
    "\n",
    "    # Make strings same length\n",
    "    value1b = ('0' * (len(value2b) - len(value1b))) + value1b\n",
    "    value2b = ('0' * (len(value1b) - len(value2b))) + value2b\n",
    "    \n",
    "    # XOR\n",
    "    x = ['1' if v1b != v2b else '0' for (v1b,v2b) in zip(value1b,value2b)]\n",
    "    \n",
    "    # To int\n",
    "    return int(\"\".join(x), 2)\n",
    "\n",
    "def run(a, b, c):\n",
    "    instruction_pointer = 0\n",
    "\n",
    "    def get_combo_operand(operand):\n",
    "        if operand < 0 or operand > 6:\n",
    "            raise Exception(\"Invalid operand value\")\n",
    "        if operand == 4:\n",
    "            return a\n",
    "        if operand == 5:\n",
    "            return b\n",
    "        if operand == 6:\n",
    "            return c\n",
    "        return operand\n",
    "\n",
    "    output = []\n",
    "    \n",
    "    while instruction_pointer < len(instructions):\n",
    "        opcode = instructions[instruction_pointer]\n",
    "        operand = instructions[instruction_pointer + 1]\n",
    "        \n",
    "        match opcode:\n",
    "            case 0:\n",
    "                #adv\n",
    "                a = a // pow(2, get_combo_operand(operand))\n",
    "            case 1:\n",
    "                #bxl\n",
    "                b = bit_xor(b, operand)\n",
    "            case 2:\n",
    "                #bst\n",
    "                b = get_combo_operand(operand) % 8\n",
    "            case 3:\n",
    "                #jnz\n",
    "                if a != 0:\n",
    "                    instruction_pointer = operand - 2\n",
    "            case 4:\n",
    "                #bxc\n",
    "                b = bit_xor(b, c)\n",
    "            case 5:\n",
    "                #out\n",
    "                output.append(get_combo_operand(operand) % 8)\n",
    "            case 6:\n",
    "                #bdv\n",
    "                b = a // pow(2, get_combo_operand(operand))\n",
    "            case 7:\n",
    "                #cdv\n",
    "                c = a // pow(2, get_combo_operand(operand))\n",
    "\n",
    "        instruction_pointer += 2\n",
    "\n",
    "    return output"
   ]
  },
  {
   "cell_type": "markdown",
   "metadata": {},
   "source": [
    "Part A"
   ]
  },
  {
   "cell_type": "code",
   "execution_count": null,
   "metadata": {},
   "outputs": [],
   "source": [
    "ouput = run(default_a, default_b, default_c)\n",
    "\n",
    "print(\",\".join(output))    "
   ]
  },
  {
   "cell_type": "markdown",
   "metadata": {},
   "source": [
    "Part B\n",
    "\n",
    "8_432_600_000 Too low"
   ]
  },
  {
   "cell_type": "code",
   "execution_count": null,
   "metadata": {},
   "outputs": [],
   "source": [
    "start_a = 1\n",
    "\n",
    "while True:\n",
    "    start_a += 1\n",
    "    output = run(start_a, default_b, default_c)\n",
    "    if instructions[len(instructions) - len(output):] == output:\n",
    "        break\n",
    "\n",
    "a_to_check = [start_a]\n",
    "\n",
    "while len(a_to_check) > 0:\n",
    "    new_a_to_check = set()\n",
    "    for start_a in a_to_check:\n",
    "        output = run(start_a, default_b, default_c)\n",
    "        \n",
    "        if instructions[len(instructions) - len(output):] == output:\n",
    "            for i in range(8):\n",
    "                new_a_to_check.add((start_a * 8) + i)\n",
    "            \n",
    "        if instructions == output:\n",
    "            print(start_a)\n",
    "            a_to_check = set()\n",
    "            break\n",
    "        \n",
    "    a_to_check = new_a_to_check"
   ]
  }
 ],
 "metadata": {
  "kernelspec": {
   "display_name": "Python 3",
   "language": "python",
   "name": "python3"
  },
  "language_info": {
   "codemirror_mode": {
    "name": "ipython",
    "version": 3
   },
   "file_extension": ".py",
   "mimetype": "text/x-python",
   "name": "python",
   "nbconvert_exporter": "python",
   "pygments_lexer": "ipython3",
   "version": "3.12.5"
  }
 },
 "nbformat": 4,
 "nbformat_minor": 2
}
