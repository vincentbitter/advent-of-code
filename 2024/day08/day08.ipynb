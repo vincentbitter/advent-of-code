{
 "cells": [
  {
   "cell_type": "code",
   "execution_count": 6,
   "metadata": {},
   "outputs": [
    {
     "name": "stdout",
     "output_type": "stream",
     "text": [
      "defaultdict(<class 'list'>, {'s': [(3, 0), (8, 2), (7, 3)], 'w': [(19, 1), (14, 3), (9, 4), (20, 10)], 'K': [(26, 1), (48, 8), (45, 9), (49, 12)], 't': [(34, 1), (23, 5), (41, 10), (28, 12)], '1': [(30, 3), (33, 7), (35, 10)], '5': [(10, 4), (25, 8), (12, 9), (29, 13)], 'F': [(25, 5), (0, 7), (4, 10), (5, 18)], 'd': [(45, 7), (44, 14), (32, 19), (43, 22)], 'R': [(30, 9), (25, 15), (33, 20), (32, 24)], 'Z': [(46, 9), (35, 13), (40, 14), (33, 30)], 'q': [(10, 10), (9, 14), (21, 15), (12, 19)], '8': [(12, 11), (10, 12), (11, 13), (3, 34)], 'I': [(20, 11), (15, 24), (5, 27), (10, 28)], 'U': [(47, 14), (42, 17), (39, 21), (40, 22)], 'Y': [(19, 15), (8, 34), (6, 35), (7, 44)], 'E': [(20, 16), (33, 22), (38, 33), (37, 41)], 'z': [(26, 16), (6, 23), (7, 25), (5, 26)], 'y': [(42, 16), (49, 21), (45, 24)], 'k': [(39, 18), (43, 25), (36, 28), (44, 37)], 'S': [(48, 18), (46, 29), (43, 31), (33, 44)], 'x': [(2, 21), (7, 22), (18, 28)], 'M': [(36, 22), (25, 24), (30, 27), (33, 41)], 'X': [(14, 23), (7, 28), (9, 29)], '4': [(43, 23), (38, 29), (31, 34), (18, 40)], 'm': [(20, 24), (46, 33), (45, 43), (47, 44)], 'e': [(46, 25), (45, 26), (47, 39)], 'f': [(2, 26), (3, 27), (8, 31), (21, 34)], '7': [(16, 27), (17, 29), (23, 40), (18, 44)], 'u': [(19, 27), (20, 30), (24, 31), (23, 38)], 'D': [(47, 27), (16, 31), (49, 32), (48, 40)], '9': [(21, 30), (38, 39), (40, 48)], 'T': [(25, 30), (21, 33), (30, 34), (22, 37)], '3': [(31, 30), (19, 31), (18, 36), (20, 37)], 'o': [(38, 30), (37, 40), (40, 41), (41, 47)], '6': [(49, 30), (38, 38), (27, 39), (24, 47)], 'W': [(3, 32), (2, 48), (1, 49)], '0': [(7, 32), (4, 36), (5, 43), (12, 45)], 'i': [(3, 42), (7, 43)], 'O': [(21, 42), (36, 44), (26, 45), (27, 49)], 'Q': [(49, 42), (34, 46), (48, 47)], '2': [(47, 43), (39, 44), (36, 49)], 'r': [(9, 44), (5, 45), (6, 48)]})\n"
     ]
    }
   ],
   "source": [
    "from collections import defaultdict\n",
    "from libpy import readfile\n",
    "\n",
    "#filename = \"2024/day08/input/sample.txt\"\n",
    "filename = \"2024/day08/input/input.txt\"\n",
    "lines = readfile.lines(filename)\n",
    "\n",
    "width = len(lines[0])\n",
    "height = len(lines)\n",
    "\n",
    "antennas = defaultdict(list)\n",
    "for y in range(height):\n",
    "    for x in range(width):\n",
    "        frequency = lines[y][x]\n",
    "        if frequency != \".\":\n",
    "            antennas[frequency].append((x, y))\n",
    "\n",
    "print(antennas)"
   ]
  },
  {
   "cell_type": "markdown",
   "metadata": {},
   "source": [
    "Part A"
   ]
  },
  {
   "cell_type": "code",
   "execution_count": 7,
   "metadata": {},
   "outputs": [
    {
     "name": "stdout",
     "output_type": "stream",
     "text": [
      "240\n"
     ]
    }
   ],
   "source": [
    "antinodes = set()\n",
    "for antennas_on_frequency in list(antennas.values()):\n",
    "    for antenna in antennas_on_frequency:\n",
    "        for d in [(r[0] - antenna[0],r[1] - antenna[1]) for r in antennas_on_frequency if r != antenna]:\n",
    "            antinode = (antenna[0] - d[0], antenna[1] - d[1])\n",
    "            if antinode[0] >= 0 and antinode[0] < width and antinode[1] >= 0 and antinode[1] < height:\n",
    "                antinodes.add(antinode)\n",
    "\n",
    "print(len(antinodes))"
   ]
  },
  {
   "cell_type": "markdown",
   "metadata": {},
   "source": [
    "Part B"
   ]
  },
  {
   "cell_type": "code",
   "execution_count": 8,
   "metadata": {},
   "outputs": [
    {
     "name": "stdout",
     "output_type": "stream",
     "text": [
      "955\n"
     ]
    }
   ],
   "source": [
    "antinodes = set()\n",
    "for antennas_on_frequency in list(antennas.values()):\n",
    "    for antenna in antennas_on_frequency:\n",
    "        antinodes.add(antenna)\n",
    "        for d in [(r[0] - antenna[0],r[1] - antenna[1]) for r in antennas_on_frequency if r != antenna]:\n",
    "            antinode = (antenna[0] - d[0], antenna[1] - d[1])\n",
    "            while antinode[0] >= 0 and antinode[0] < width and antinode[1] >= 0 and antinode[1] < height:\n",
    "                antinodes.add(antinode)\n",
    "                antinode = (antinode[0] - d[0], antinode[1] - d[1])\n",
    "\n",
    "print(len(antinodes))"
   ]
  }
 ],
 "metadata": {
  "kernelspec": {
   "display_name": "Python 3",
   "language": "python",
   "name": "python3"
  },
  "language_info": {
   "codemirror_mode": {
    "name": "ipython",
    "version": 3
   },
   "file_extension": ".py",
   "mimetype": "text/x-python",
   "name": "python",
   "nbconvert_exporter": "python",
   "pygments_lexer": "ipython3",
   "version": "3.12.5"
  }
 },
 "nbformat": 4,
 "nbformat_minor": 2
}
